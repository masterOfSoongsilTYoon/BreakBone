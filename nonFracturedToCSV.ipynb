{
 "cells": [
  {
   "cell_type": "code",
   "execution_count": 1,
   "metadata": {},
   "outputs": [],
   "source": [
    "import os\n",
    "import pandas as pd"
   ]
  },
  {
   "cell_type": "code",
   "execution_count": 2,
   "metadata": {},
   "outputs": [
    {
     "name": "stdout",
     "output_type": "stream",
     "text": [
      "4083\n"
     ]
    }
   ],
   "source": [
    "dataframe=pd.read_csv(\"./Dataset/FracAtlas/dataset.csv\")\n",
    "image_names = dataframe[\"image_id\"].tolist()\n",
    "\n",
    "fractured_train_dataset_path = \"./Dataset/FracAtlas/Utilities/Fracture Split/train.csv\"\n",
    "fractured_valid_dataset_path = \"./Dataset/FracAtlas/Utilities/Fracture Split/valid.csv\"\n",
    "fractured_test_dataset_path = \"./Dataset/FracAtlas/Utilities/Fracture Split/test.csv\"\n",
    "# non_fractured_train_dataset = \n",
    "fractured_train_frame = pd.read_csv(fractured_train_dataset_path)\n",
    "fractured_valid_frame = pd.read_csv(fractured_valid_dataset_path)\n",
    "fractured_test_frame = pd.read_csv(fractured_test_dataset_path)\n",
    "image_dir = \"./Dataset/FracAtlas/images\"\n",
    "json_path = \"./Dataset/FracAtlas/Annotations/COCO JSON/COCO_fracture_masks.json\"\n",
    "fractured_train_image_names = fractured_train_frame[\"image_id\"].tolist()\n",
    "fractured_valid_image_names = fractured_valid_frame[\"image_id\"].tolist()\n",
    "fractured_test_image_names = fractured_test_frame[\"image_id\"].tolist()\n",
    "print(len(image_names))"
   ]
  },
  {
   "cell_type": "code",
   "execution_count": 3,
   "metadata": {},
   "outputs": [
    {
     "name": "stdout",
     "output_type": "stream",
     "text": [
      "3366\n"
     ]
    }
   ],
   "source": [
    "for fractured in fractured_train_image_names:\n",
    "    image_names.remove(fractured)\n",
    "\n",
    "for fractured in fractured_valid_image_names:\n",
    "    image_names.remove(fractured)\n",
    " \n",
    "for fractured in fractured_test_image_names:\n",
    "    image_names.remove(fractured) \n",
    " \n",
    "print(len(image_names))"
   ]
  },
  {
   "cell_type": "code",
   "execution_count": 4,
   "metadata": {},
   "outputs": [],
   "source": [
    "non_fractured_image_names = pd.DataFrame({\n",
    "    \"image_id\": image_names\n",
    "})\n",
    "\n",
    "non_fractured_image_names.to_csv(\"./Dataset/FracAtlas/Utilities/Nonfractured/All.csv\", index=False)"
   ]
  }
 ],
 "metadata": {
  "kernelspec": {
   "display_name": "Python 3",
   "language": "python",
   "name": "python3"
  },
  "language_info": {
   "codemirror_mode": {
    "name": "ipython",
    "version": 3
   },
   "file_extension": ".py",
   "mimetype": "text/x-python",
   "name": "python",
   "nbconvert_exporter": "python",
   "pygments_lexer": "ipython3",
   "version": "3.10.13"
  }
 },
 "nbformat": 4,
 "nbformat_minor": 2
}
